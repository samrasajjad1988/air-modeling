{
 "cells": [
  {
   "cell_type": "markdown",
   "metadata": {
    "collapsed": true
   },
   "source": [
    "# Time series analysis with ARIMA\n",
    "Description"
   ]
  },
  {
   "cell_type": "markdown",
   "metadata": {},
   "source": [
    "## Import libraries and get sample data"
   ]
  },
  {
   "cell_type": "code",
   "execution_count": 1,
   "metadata": {},
   "outputs": [
    {
     "name": "stderr",
     "output_type": "stream",
     "text": [
      "",
      "from pandas.core import datetools\n"
     ]
    }
   ],
   "source": [
    "# Import libraries\n",
    "import warnings\n",
    "import itertools\n",
    "import pandas as pd\n",
    "import numpy as np\n",
    "import matplotlib.pyplot as plt\n",
    "import statsmodels.api as sm\n",
    "\n",
    "# Defaults\n",
    "plt.rcParams['figure.figsize'] = (10.0, 10.0)\n",
    "plt.rcParams.update({'font.size': 12})\n",
    "plt.style.use('ggplot')"
   ]
  },
  {
   "cell_type": "code",
   "execution_count": 2,
   "metadata": {},
   "outputs": [
    {
     "data": {
      "image/png": "",
      "text/plain": [
       "<matplotlib.figure.Figure at 0x233ff78dda0>"
      ]
     },
     "metadata": {},
     "output_type": "display_data"
    }
   ],
   "source": [
    "# Load the data\n",
    "data2014 = pd.read_csv('2014-pm.csv', engine='python')\n",
    "data2015 = pd.read_csv('2015-pm.csv', engine='python')\n",

    "data = pd.read_csv('2017-pm.csv', engine='python')\n",
    "data2016 = pd.read_csv('2016-pm.csv', engine='python')\n",

    "data['Month']=pd.to_datetime(data['Month'], format='%Y-%m')\n",
    "data.set_index(['Month'], inplace=True)\n",
    "\n",
    "data2016['Month']=pd.to_datetime(data2016['Month'], format='%Y-%m')\n",
    "data2016.set_index(['Month'], inplace=True)\n",
    "\n",
"data2014['Month']=pd.to_datetime(data2014['Month'], format='%Y-%m')\n",
    "data2014.set_index(['Month'], inplace=True)\n",
    "\n",	
"data2015['Month']=pd.to_datetime(data2015['Month'], format='%Y-%m')\n",
    "data2015.set_index(['Month'], inplace=True)\n",
    "\n",		
   "fig, axs = plt.subplots(2, 2, figsize=(12, 8))\n",

"data2014.plot(ax=axs[0,0])\n",
"axs[0,0].set_title('2014')\n",
"axs[0,0].set_ylabel('Pollutant')\n",
"axs[0,0].set_xlabel('Date')\n",

"data2015.plot(ax=axs[0,1])\n",
"axs[0,1].set_title('2015')\n",
"axs[0,1].set_ylabel('Pollutant')\n",
"axs[0,1].set_xlabel('Date')\n",

"data2016.plot(ax=axs[1,0])\n",
"axs[1,0].set_title('2016')\n",
"axs[1,0].set_ylabel('Pollutant')\n",
"axs[1,0].set_xlabel('Date')\n",

"data.plot(ax=axs[1,1])\n",
"axs[1,1].set_title('2017')\n",
"axs[1,1].set_ylabel('Pollutant')\n",
"axs[1,1].set_xlabel('Date')\n",

"plt.tight_layout()\n",

"plt.show()"
   ]
  },
  {
   "cell_type": "code",
   "execution_count": null,
   "metadata": {},
   "outputs": [],
   "source": []
  }
 ],
 "metadata": {
  "kernelspec": {
   "display_name": "Python 3",
   "language": "python",
   "name": "python3"
  },
  "language_info": {
   "codemirror_mode": {
    "name": "ipython",
    "version": 3
   },
   "file_extension": ".py",
   "mimetype": "text/x-python",
   "name": "python",
   "nbconvert_exporter": "python",
   "pygments_lexer": "ipython3",
   "version": "3.6.3"
  }
 },
 "nbformat": 4,
 "nbformat_minor": 2
}
