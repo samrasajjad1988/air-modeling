{
 "cells": [
  {
   "cell_type": "markdown",
   "metadata": {
    "collapsed": true
   },
   "source": [
    "# Time series analysis with ARIMA\n",
    "Description"
   ]
  },
  {
   "cell_type": "markdown",
   "metadata": {},
   "source": [
    "## Import libraries and get sample data"
   ]
  },
  {
   "cell_type": "code",
   "execution_count": 1,
   "metadata": {},
   "outputs": [
    {
     "name": "stderr",
     "output_type": "stream",
     "text": [
      "",
      "from pandas.core import datetools\n"
     ]
    }
   ],
   "source": [
    "# Import libraries\n",
    "import warnings\n",
    "import itertools\n",
    "import pandas as pd\n",
    "import numpy as np\n",
    "import matplotlib.pyplot as plt\n",
    "import statsmodels.api as sm\n",
    "\n",
    "# Defaults\n",
    "plt.rcParams['figure.figsize'] = (10.0, 10.0)\n",
    "plt.rcParams.update({'font.size': 12})\n",
    "plt.style.use('ggplot')"
   ]
  },
  {
   "cell_type": "code",
   "execution_count": 2,
   "metadata": {},
   "outputs": [
    {
     "data": {
      "image/png": "",
      "text/plain": [
       "<matplotlib.figure.Figure at 0x233ff78dda0>"
      ]
     },
     "metadata": {},
     "output_type": "display_data"
    }
   ],
   "source": [
    "# Load the data\n",
    "data2014 = pd.read_csv('2014-pm.csv', engine='python')\n",
    "data2015 = pd.read_csv('2015-pm.csv', engine='python')\n",

    "data = pd.read_csv('2017-pm.csv', engine='python')\n",
    "data2016 = pd.read_csv('2016-pm.csv', engine='python')\n",

    "data['Month']=pd.to_datetime(data['Month'], format='%Y-%m')\n",
    "data.set_index(['Month'], inplace=True)\n",
    "\n",
    "data2016['Month']=pd.to_datetime(data2016['Month'], format='%Y-%m')\n",
    "data2016.set_index(['Month'], inplace=True)\n",
    "\n",
"data2014['Month']=pd.to_datetime(data2014['Month'], format='%Y-%m')\n",
    "data2014.set_index(['Month'], inplace=True)\n",
    "\n",	
"data2015['Month']=pd.to_datetime(data2015['Month'], format='%Y-%m')\n",
    "data2015.set_index(['Month'], inplace=True)\n",
    "\n",		
   "fig, axs = plt.subplots(2, 2, figsize=(12, 8))\n",

"data2014.plot(ax=axs[0,0])\n",
"axs[0,0].set_title('2014')\n",
"axs[0,0].set_ylabel('Pollutant')\n",
"axs[0,0].set_xlabel('Date')\n",

"data2015.plot(ax=axs[0,1])\n",
"axs[0,1].set_title('2015')\n",
"axs[0,1].set_ylabel('Pollutant')\n",
"axs[0,1].set_xlabel('Date')\n",

"data2016.plot(ax=axs[1,0])\n",
"axs[1,0].set_title('2016')\n",
"axs[1,0].set_ylabel('Pollutant')\n",
"axs[1,0].set_xlabel('Date')\n",

"data.plot(ax=axs[1,1])\n",
"axs[1,1].set_title('2017')\n",
"axs[1,1].set_ylabel('Pollutant')\n",
"axs[1,1].set_xlabel('Date')\n",

"plt.tight_layout()\n",

"plt.show()"
   ]
  },

  {
   "cell_type": "markdown",
   "metadata": {},
   "source": [
    "Two obvious patterns appear in the data, an overall increase in the number of passengers over time, and a 12 months seasonality with peaks corresponding to the northern emisphere summer period."
   ]
  },
  {
   "cell_type": "markdown",
   "metadata": {},
   "source": [
    "## ARIMA\n",
    "ARIMA stands for Auto-Regressive Integrated Moving Average. There are three  integers (p, d, q) that are used to parametrize ARIMA models. Because of that, a nonseasonal ARIMA model is denoted with ARIMA(p, d, q): \n",
    "<ul>\n",
    "<li><strong>p</strong> is the number of autoregressive terms (AR part). It allows to incorporate the effect of past values into our model. Intuitively, this would be similar to stating that it is likely to be warm tomorrow if it has been warm the past 3 days.</li>\n",
    "<li><strong>d</strong> is the number of nonseasonal differences needed for stationarity. Intuitively, this would be similar to stating that it is likely to be same temperature tomorrow if the difference in temperature in the last three days has been very small.</li>\n",
    "<li><strong>q</strong> is the number of lagged forecast errors in the prediction equation (MA part). This allows us to set the error of our model as a linear combination of the error values observed at previous time points in the past.</li>\n",
    "</ul>\n",
    "\n",
    "When dealing with seasonal effects, as in our example, seasonal ARIMA is used, which is denoted as ARIMA(p,d,q)(P,D,Q)s. Here, (p, d, q) are the nonseasonal parameters described above, (<strong>P, D, Q</strong>) follow the same definition but are applied to the seasonal component of the time series. The term <strong>s</strong> is the periodicity of the time series.\n",
    "\n",
    "While in this case it is clear that s=12, how do we set the other parameters? \n",
    "\n",
    "It is pretty much based on experience. There are numerous best practices that can be followed to identify ARIMA models, such as: \n",
    "http://people.duke.edu/~rnau/arimrule.htm.\n",
    "\n",
    "Here we use grid search over all possible combinations of parameter values within a predefined range of values (heavily inspired by https://www.digitalocean.com/community/tutorials/a-guide-to-time-series-forecasting-with-arima-in-python-3). \n",
    "\n",
    "$statsmodels.tsa.statespace.sarimax.SARIMAXResults$ returns values for AIC (Akaike Information Criterion) and BIC (Bayes Information Criterion) that can be minimized to select the best fitting model. We use the AIC value, which estimates the information lost when a given model is used to represent the process that generates the data. In doing so, it deals with the trade-off between the goodness of fit of the model and the complexity of the model itself."
   ]
  },
  {
   "cell_type": "code",
   "execution_count": 3,
   "metadata": {},
   "outputs": [
    {
     "name": "stdout",
     "output_type": "stream",
     "text": [
      "Examples of parameter combinations for Seasonal ARIMA...\n",
      "SARIMAX: (0, 0, 1) x (0, 0, 1, 12)\n",
      "SARIMAX: (0, 0, 1) x (0, 1, 0, 12)\n",
      "SARIMAX: (0, 1, 0) x (0, 1, 1, 12)\n",
      "SARIMAX: (0, 1, 0) x (1, 0, 0, 12)\n"
     ]
    }
   ],
   "source": [
    "# Define the d and q parameters to take any value between 0 and 1\n",
    "q = d = range(0, 2)\n",
    "# Define the p parameters to take any value between 0 and 3\n",
    "p = range(0, 4)\n",
    "\n",
    "# Generate all different combinations of p, q and q triplets\n",
    "pdq = list(itertools.product(p, d, q))\n",
    "\n",
    "# Generate all different combinations of seasonal p, q and q triplets\n",
    "seasonal_pdq = [(x[0], x[1], x[2], 12) for x in list(itertools.product(p, d, q))]\n",
    "\n",
    "print('Examples of parameter combinations for Seasonal ARIMA...')\n",
    "print('SARIMAX: {} x {}'.format(pdq[1], seasonal_pdq[1]))\n",
    "print('SARIMAX: {} x {}'.format(pdq[1], seasonal_pdq[2]))\n",
    "print('SARIMAX: {} x {}'.format(pdq[2], seasonal_pdq[3]))\n",
    "print('SARIMAX: {} x {}'.format(pdq[2], seasonal_pdq[4]))"
   ]
  },
  {
   "cell_type": "markdown",
   "metadata": {},
   "source": [
    "We select a subset of the data series as training data, say thet 4 years. Our goal is to predict the Pm concentration of the series based on this input."
   ]
  },
  {
   "cell_type": "code",
   "execution_count": 13,
   "metadata": {},
   "outputs": [],
   "source": [
    "train_data = data['2014-01-01':'2017-12-31']\n",
    "test_data = data['2014-01-01':'12017-12-31']"
   ]
  },
  {
   "cell_type": "code",
   "execution_count": 5,
   "metadata": {},
   "outputs": [
    {
     "name": "stdout",
     "output_type": "stream",
     "text": [
      "SARIMAX(3, 1, 1)x(3, 1, 1, 12) - AIC:619.77849554151587\r"
     ]
    }
   ],
   "source": [
    "warnings.filterwarnings(\"ignore\") # specify to ignore warning messages\n",
    "\n",
    "AIC = []\n",
    "SARIMAX_model = []\n",
    "for param in pdq:\n",
    "    for param_seasonal in seasonal_pdq:\n",
    "        try:\n",
    "            mod = sm.tsa.statespace.SARIMAX(train_data,\n",
    "                                            order=param,\n",
    "                                            seasonal_order=param_seasonal,\n",
    "                                            enforce_stationarity=False,\n",
    "                                            enforce_invertibility=False)\n",
    "\n",
    "            results = mod.fit()\n",
    "\n",
    "            print('SARIMAX{}x{} - AIC:{}'.format(param, param_seasonal, results.aic), end='\\r')\n",
    "            AIC.append(results.aic)\n",
    "            SARIMAX_model.append([param, param_seasonal])\n",
    "        except:\n",
    "            continue"
   ]
  },
  {
   "cell_type": "code",
   "execution_count": 6,
   "metadata": {},
   "outputs": [
    {
     "name": "stdout",
     "output_type": "stream",
     "text": [
      "The smallest AIC is 618.2055110262379 for model SARIMAX(3, 1, 0)x(3, 1, 1, 12)\n"
     ]
    }
   ],
   "source": [
    "print('The smallest AIC is {} for model SARIMAX{}x{}'.format(min(AIC), SARIMAX_model[AIC.index(min(AIC))][0],SARIMAX_model[AIC.index(min(AIC))][1]))"
   ]
  },
  {
   "cell_type": "code",
   "execution_count": 7,
   "metadata": {},
   "outputs": [],
   "source": [
    "# Let's fit this model\n",
    "mod = sm.tsa.statespace.SARIMAX(train_data,\n",
    "                                order=SARIMAX_model[AIC.index(min(AIC))][0],\n",
    "                                seasonal_order=SARIMAX_model[AIC.index(min(AIC))][1],\n",
    "                                enforce_stationarity=False,\n",
    "                                enforce_invertibility=False)\n",
    "\n",
    "results = mod.fit()"
   ]
  },
  {
   "cell_type": "markdown",
   "metadata": {},
   "source": [
    "Once the model has been fitted, we can check if does what we expect and if the assumptions we made are violated. To do this, we can use the $plot\\_diagnostics$ method."
   ]
  },
  {
   "cell_type": "code",
   "execution_count": 8,
   "metadata": {
    "scrolled": true
   },
   "outputs": [
    {
     "data": {
      "image/png": "",
      "text/plain": [
       "<matplotlib.figure.Figure at 0x233835a9ba8>"
      ]
     },
     "metadata": {},
     "output_type": "display_data"
    }
   ],
   "source": [
    "results.plot_diagnostics(figsize=(20, 14))\n",
    "plt.show()"
   ]
  },
  {
   "cell_type": "markdown",
   "metadata": {},
   "source": [
    "In the plots above, we can observe that the residuals are uncorrelated (bottom right plot) and do not exhibit any obvious seasonality (the top left plot). Also, the residuals and roughly normally distributed with zero mean (top right plot). The qq-plot on the bottom left shows that the ordered distribution of residuals (blue dots) roghly follows the linear trend of samples taken from a standard normal distribution with N(0, 1). Again, this is a strong indication that the residuals are normally distributed."
   ]
  },
  {
   "cell_type": "markdown",
   "metadata": {
    "collapsed": true
   },
   "source": [
    "## Results\n",
    "Now let's create some predictions. We will use three methods:"
   ]
  },
  {
   "cell_type": "markdown",
   "metadata": {},
   "source": [
    "1) In sample prediction with 1-step ahead forecasting of the last year (2014). In this case the model is used to predict data that the model was built on. 1-step ahead forecasting implies that each forecasted point is used to predict the following one."
   ]
  },
  {
   "cell_type": "code",
   "execution_count": 9,
   "metadata": {},
   "outputs": [],
   "source": [
    "pred0 = results.get_prediction(start='1958-01-01', dynamic=False)\n",
    "pred0_ci = pred0.conf_int()"
   ]
  },
  {
   "cell_type": "markdown",
   "metadata": {},
   "source": [
    "2) In sample prediction with dynamic forecasting of the last year (1959). Again, the model is used to predict data that the model was built on."
   ]
  },
  {
   "cell_type": "code",
   "execution_count": 10,
   "metadata": {},
   "outputs": [],
   "source": [
    "pred1 = results.get_prediction(start='1958-01-01', dynamic=True)\n",
    "pred1_ci = pred1.conf_int()"
   ]
  },
  {
   "cell_type": "markdown",
   "metadata": {},
   "source": [
    "3) \"True\" forecasting of out of sample data. In this case the model is asked to predict data it has not seen before."
   ]
  },
  {
   "cell_type": "code",
   "execution_count": 16,
   "metadata": {},
   "outputs": [
    {
     "name": "stdout",
     "output_type": "stream",
     "text": [
      "1960-01-01    419.495085\n",
      "1960-02-01    397.834142\n",
      "1960-03-01    460.859052\n",
      "1960-04-01    449.451900\n",
      "1960-05-01    474.555739\n",
      "1960-06-01    537.848954\n",
      "1960-07-01    614.884907\n",
      "1960-08-01    628.209240\n",
      "1960-09-01    519.336551\n",
      "1960-10-01    462.254691\n",
      "1960-11-01    412.164222\n",
      "1960-12-01    452.664872\n",
      "Freq: MS, dtype: float64\n"
     ]
    }
   ],
   "source": [
    "pred2 = results.get_forecast('1962-12-01')\n",
    "pred2_ci = pred2.conf_int()\n",
    "print(pred2.predicted_mean['1960-01-01':'1960-12-01'])"
   ]
  },
  {
   "cell_type": "markdown",
   "metadata": {},
   "source": [
    "Let's plot all this"
   ]
  },
  {
   "cell_type": "code",
   "execution_count": 12,
   "metadata": {},
   "outputs": [
    {
     "data": {
      "image/png": "\n",
      "text/plain": [
       "<matplotlib.figure.Figure at 0x2338794e198>"
      ]
     },
     "metadata": {},
     "output_type": "display_data"
    }
   ],
   "source": [
    "ax = data.plot(figsize=(20, 16))\n",
    "pred0.predicted_mean.plot(ax=ax, label='1-step-ahead Forecast (get_predictions, dynamic=False)')\n",
    "pred1.predicted_mean.plot(ax=ax, label='Dynamic Forecast (get_predictions, dynamic=True)')\n",
    "pred2.predicted_mean.plot(ax=ax, label='Dynamic Forecast (get_forecast)')\n",
    "ax.fill_between(pred2_ci.index, pred2_ci.iloc[:, 0], pred2_ci.iloc[:, 1], color='k', alpha=.1)\n",
    "plt.ylabel('Monthly airline passengers (x1000)')\n",
    "plt.xlabel('Date')\n",
    "plt.legend()\n",
    "plt.show()"
   ]
  },
  {
   "cell_type": "markdown",
   "metadata": {},
   "source": [
    "Looking at the figure, the model seems to do a pretty good job at modeling the time series. The blue and purple lines are, as expected, very close to the red ground truth. What is more interesting is the gray line, the out of sample predinction. For such a simple time series, the ARIMA model is able to forecast the 1960 values accurately."
   ]
  },
  {
   "cell_type": "markdown",
   "metadata": {},
   "source": [
    "In order to quantify the accuracy of the prediction for 1960, we can compute metrics such as Mean Absolute Error, Mean Squared Error, or Root Mean Squared Error. These are all absolute metrics, are therefore scale-dependent. While they are useful, and widely used to compare different methods on a same dataset, here it would be more useful to express the error relatively to the magnitude of the time series we are trying to predict. One commonly-used percentage error measure is the Mean Absolute Percentage Error (MAPE). It has some drawbacks in special cases (notably, it can lead to division by zero) and improved measures have been proposed, see e.g. https://www.otexts.org/fpp/2/5 for a nice overview. However, for this example we'll stick with MAPE."
   ]
  },
  {
   "cell_type": "code",
   "execution_count": 33,
   "metadata": {},
   "outputs": [
    {
     "name": "stdout",
     "output_type": "stream",
     "text": [
      "The Mean Absolute Percentage Error for the forecast of year 1960 is 2.81%\n"
     ]
    }
   ],
   "source": [
    "prediction = pred2.predicted_mean['1960-01-01':'1960-12-01'].values\n",
    "# flatten nested list\n",
    "truth = list(itertools.chain.from_iterable(test_data.values))\n",
    "# Mean Absolute Percentage Error\n",
    "MAPE = np.mean(np.abs((truth - prediction) / truth)) * 100\n",
    "\n",
    "print('The Mean Absolute Percentage Error for the forecast of year 1960 is {:.2f}%'.format(MAPE))"
   ]
  },
  {
   "cell_type": "markdown",
   "metadata": {},
   "source": []
  },
  {
   "cell_type": "code",
   "execution_count": null,
   "metadata": {},
   "outputs": [],
   "source": []
  }
 ],
 "metadata": {
  "kernelspec": {
   "display_name": "Python 3",
   "language": "python",
   "name": "python3"
  },
  "language_info": {
   "codemirror_mode": {
    "name": "ipython",
    "version": 3
   },
   "file_extension": ".py",
   "mimetype": "text/x-python",
   "name": "python",
   "nbconvert_exporter": "python",
   "pygments_lexer": "ipython3",
   "version": "3.6.3"
  }
 },
 "nbformat": 4,
 "nbformat_minor": 2
}
